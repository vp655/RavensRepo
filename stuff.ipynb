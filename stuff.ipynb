{
 "cells": [
  {
   "cell_type": "code",
   "execution_count": 64,
   "id": "98a51b30",
   "metadata": {},
   "outputs": [],
   "source": [
    "import os, glob\n",
    "import numpy as np\n",
    "import pandas as pd\n",
    "import matplotlib.pyplot as plt\n",
    "from matplotlib import animation"
   ]
  },
  {
   "cell_type": "code",
   "execution_count": 65,
   "id": "b9aea362",
   "metadata": {},
   "outputs": [],
   "source": [
    "GAMES_CSV = \"data/games.csv\"\n",
    "PLAYS_CSV = \"data/plays.csv\"\n",
    "WEEK_GLOB = \"data/week*.csv\""
   ]
  },
  {
   "cell_type": "code",
   "execution_count": 66,
   "id": "234e68dc",
   "metadata": {},
   "outputs": [],
   "source": [
    "GAME_ID = 2018090600\n",
    "PLAY_ID = 190\n",
    "str_GAME_ID = str(GAME_ID) + \"_\" + str(PLAY_ID)\n",
    "OUT_GIF = \"animations/\" + str_GAME_ID + \"_animation.gif\""
   ]
  },
  {
   "cell_type": "code",
   "execution_count": 67,
   "id": "8cfea454",
   "metadata": {},
   "outputs": [],
   "source": [
    "TEAM_COLORS = {\n",
    "    \"ARI\": (\"#97233F\", \"#000000\"), \"ATL\": (\"#A71930\", \"#000000\"),\n",
    "    \"BAL\": (\"#241773\", \"#9E7C0C\"), \"BUF\": (\"#00338D\", \"#C60C30\"),\n",
    "    \"CAR\": (\"#0085CA\", \"#101820\"), \"CHI\": (\"#0B162A\", \"#C83803\"),\n",
    "    \"CIN\": (\"#FB4F14\", \"#000000\"), \"CLE\": (\"#311D00\", \"#FF3C00\"),\n",
    "    \"DAL\": (\"#041E42\", \"#869397\"), \"DEN\": (\"#FB4F14\", \"#002244\"),\n",
    "    \"DET\": (\"#0076B6\", \"#B0B7BC\"), \"GB\":  (\"#203731\", \"#FFB612\"),\n",
    "    \"HOU\": (\"#03202F\", \"#A71930\"), \"IND\": (\"#002C5F\", \"#A2AAAD\"),\n",
    "    \"JAX\": (\"#006778\", \"#9F792C\"), \"KC\":  (\"#E31837\", \"#FFB81C\"),\n",
    "    \"LA\": (\"#0080C6\", \"#FFC20E\"), \"LAR\": (\"#003594\", \"#FFA300\"),\n",
    "    \"LV\":  (\"#000000\", \"#A5ACAF\"), \"MIA\": (\"#008E97\", \"#FC4C02\"),\n",
    "    \"MIN\": (\"#4F2683\", \"#FFC62F\"), \"NE\":  (\"#002244\", \"#C60C30\"),\n",
    "    \"NO\":  (\"#D3BC8D\", \"#101820\"), \"NYG\": (\"#0B2265\", \"#A71930\"),\n",
    "    \"NYJ\": (\"#125740\", \"#FFFFFF\"), \"PHI\": (\"#004C54\", \"#A5ACAF\"),\n",
    "    \"PIT\": (\"#FFB612\", \"#101820\"), \"SEA\": (\"#002244\", \"#69BE28\"),\n",
    "    \"SF\":  (\"#AA0000\", \"#B3995D\"), \"TB\":  (\"#D50A0A\", \"#FF7900\"),\n",
    "    \"TEN\": (\"#0C2340\", \"#4B92DB\"), \"WAS\": (\"#5A1414\", \"#FFB612\"),\n",
    "}"
   ]
  },
  {
   "cell_type": "code",
   "execution_count": 68,
   "id": "57159255",
   "metadata": {},
   "outputs": [],
   "source": [
    "games = pd.read_csv(GAMES_CSV)\n",
    "plays = pd.read_csv(PLAYS_CSV)"
   ]
  },
  {
   "cell_type": "code",
   "execution_count": 69,
   "id": "20239df5",
   "metadata": {},
   "outputs": [],
   "source": [
    "game_row = games.loc[games[\"gameId\"] == GAME_ID]\n",
    "game_row = game_row.iloc[0]\n",
    "actual_week = (game_row[\"week\"])\n",
    "selected_week = actual_week\n"
   ]
  },
  {
   "cell_type": "code",
   "execution_count": 70,
   "id": "a01b816c",
   "metadata": {},
   "outputs": [],
   "source": [
    "week_file_needed = f\"data/week{actual_week}.csv\"\n",
    "actual = pd.read_csv(week_file_needed, usecols=[\"gameId\",\"playId\"])\n",
    "tracking = pd.read_csv(week_file_needed)"
   ]
  },
  {
   "cell_type": "code",
   "execution_count": 71,
   "id": "acc224d9",
   "metadata": {},
   "outputs": [],
   "source": [
    "track = tracking[(pd.to_numeric(tracking[\"gameId\"], errors=\"coerce\") == GAME_ID) &\n",
    "                 (pd.to_numeric(tracking[\"playId\"], errors=\"coerce\") == PLAY_ID)].copy()"
   ]
  },
  {
   "cell_type": "code",
   "execution_count": 72,
   "id": "ad549775",
   "metadata": {},
   "outputs": [
    {
     "name": "stdout",
     "output_type": "stream",
     "text": [
      "Frames found: 73  (first=1, last=73)\n"
     ]
    }
   ],
   "source": [
    "required_cols = {\"gameId\",\"playId\",\"frameId\",\"x\",\"y\",\"team\",\"s\",\"dir\"}\n",
    "\n",
    "for c in [\"gameId\",\"playId\",\"frameId\"]:\n",
    "    track[c] = pd.to_numeric(track[c], errors=\"coerce\")\n",
    "\n",
    "frame_ids = (track[\"frameId\"].dropna().astype(int).sort_values().unique().tolist())\n",
    "print(f\"Frames found: {len(frame_ids)}  (first={frame_ids[0]}, last={frame_ids[-1]})\")"
   ]
  },
  {
   "cell_type": "code",
   "execution_count": 73,
   "id": "b7a79c7e",
   "metadata": {},
   "outputs": [],
   "source": [
    "home_abbr = str(game_row[\"homeTeamAbbr\"])\n",
    "away_abbr = str(game_row[\"visitorTeamAbbr\"])\n",
    "home_1, home_2 = TEAM_COLORS.get(home_abbr)\n",
    "away_1, away_2 = TEAM_COLORS.get(away_abbr)"
   ]
  },
  {
   "cell_type": "code",
   "execution_count": 74,
   "id": "5acf3802",
   "metadata": {},
   "outputs": [],
   "source": [
    "play_dir = str(track.iloc[0].get(\"playDirection\", \"right\")).lower()\n",
    "abs_yl = float(plays.loc[(plays[\"gameId\"] == GAME_ID) & (plays[\"playId\"] == PLAY_ID), \"absoluteYardlineNumber\"].iloc[0])\n",
    "yards_to_go = float(plays.loc[(plays[\"gameId\"] == GAME_ID) & (plays[\"playId\"] == PLAY_ID), \"yardsToGo\"].iloc[0])"
   ]
  },
  {
   "cell_type": "code",
   "execution_count": 75,
   "id": "030ec01c",
   "metadata": {},
   "outputs": [],
   "source": [
    "if play_dir == \"left\":\n",
    "    line_of_scrimmage = abs_yl\n",
    "    to_go_line = line_of_scrimmage - yards_to_go\n",
    "else:\n",
    "    line_of_scrimmage = 110 - abs_yl\n",
    "    to_go_line = line_of_scrimmage + yards_to_go"
   ]
  },
  {
   "cell_type": "code",
   "execution_count": 76,
   "id": "1668f8a0",
   "metadata": {},
   "outputs": [],
   "source": [
    "desc_col = next((c for c in plays.columns if c.lower() == \"playdescription\"), None)\n",
    "title_txt = str(plays.loc[(plays[\"gameId\"] == GAME_ID) & (plays[\"playId\"] == PLAY_ID), desc_col].iloc[0]) \\\n",
    "            if desc_col else f\"Play {GAME_ID}-{PLAY_ID}\""
   ]
  },
  {
   "cell_type": "code",
   "execution_count": 77,
   "id": "fa3c2ca2",
   "metadata": {},
   "outputs": [],
   "source": [
    "need_cols = [\"x\",\"y\",\"s\",\"dir\",\"event\",\"displayName\",\"jerseyNumber\",\"frameId\",\"team\"]\n",
    "track = track[[c for c in need_cols if c in track.columns]].copy()\n",
    "rad = np.deg2rad(pd.to_numeric(track[\"dir\"], errors=\"coerce\"))\n",
    "speed = pd.to_numeric(track[\"s\"], errors=\"coerce\").fillna(0.0)\n",
    "track[\"v_x\"] = np.sin(rad) * speed\n",
    "track[\"v_y\"] = np.cos(rad) * speed"
   ]
  },
  {
   "cell_type": "code",
   "execution_count": 78,
   "id": "74bee788",
   "metadata": {},
   "outputs": [],
   "source": [
    "def map_team(t):\n",
    "    t = str(t)\n",
    "    if t == \"home\": return home_abbr\n",
    "    if t == \"away\": return away_abbr\n",
    "    return t"
   ]
  },
  {
   "cell_type": "code",
   "execution_count": 79,
   "id": "c8df6879",
   "metadata": {},
   "outputs": [],
   "source": [
    "track[\"team\"] = track[\"team\"].astype(str).apply(map_team)\n",
    "home_df = track[track[\"team\"] == home_abbr]\n",
    "away_df = track[track[\"team\"] == away_abbr]\n",
    "ball_df = track[track[\"team\"] == \"football\"]\n",
    "FIELD_W = 120.0\n",
    "FIELD_H = 160.0/3.0\n",
    "ARROW_SCALE = 1.0"
   ]
  },
  {
   "cell_type": "code",
   "execution_count": 80,
   "id": "83a9b9e9",
   "metadata": {},
   "outputs": [],
   "source": [
    "def draw_field(ax, field_color=\"#ffffff\", line_color=\"#212529\", number_color=\"#adb5bd\"):\n",
    "    ax.set_xlim(0, FIELD_W); ax.set_ylim(0, FIELD_H); ax.set_aspect(\"equal\")\n",
    "    ax.set_facecolor(field_color); ax.set_xticks([]); ax.set_yticks([])\n",
    "    for s in ax.spines.values(): s.set_visible(False)\n",
    "\n",
    "    ax.plot([0, FIELD_W], [0, 0], color=line_color, lw=1)\n",
    "    ax.plot([0, FIELD_W], [FIELD_H, FIELD_H], color=line_color, lw=1)\n",
    "    ax.plot([0, 0], [0, FIELD_H], color=line_color, lw=1)\n",
    "    ax.plot([FIELD_W, FIELD_W], [0, FIELD_H], color=line_color, lw=1)\n",
    "    for x in np.arange(10, 111, 5):\n",
    "        ax.plot([x, x], [0, FIELD_H], color=line_color, lw=0.5)\n",
    "\n",
    "    xs = np.arange(10, 111, 1)\n",
    "    hash_y1 = (160/6 + 18.5/6)\n",
    "    hash_y2 = (160/6 - 18.5/6)\n",
    "    for x in xs:\n",
    "        ax.plot([x, x], [0, 1], color=line_color, lw=0.5)\n",
    "        ax.plot([x, x], [FIELD_H-1, FIELD_H], color=line_color, lw=0.5)\n",
    "        ax.plot([x, x], [hash_y1, hash_y1+1], color=line_color, lw=0.5)\n",
    "        ax.plot([x, x], [hash_y2-1, hash_y2], color=line_color, lw=0.5)\n",
    "\n",
    "    nums = list(range(10, 60, 10)) + list(range(40, 0, -10))\n",
    "    for i, x in enumerate(range(20, 101, 10)):\n",
    "        ax.text(x, 12, str(nums[i]), color=number_color, ha=\"center\", va=\"center\", fontsize=12)\n",
    "        ax.text(x, FIELD_H-12, str(nums[i]), color=number_color, ha=\"center\", va=\"center\",\n",
    "                fontsize=12, rotation=180)"
   ]
  },
  {
   "cell_type": "code",
   "execution_count": 81,
   "id": "92bba516",
   "metadata": {},
   "outputs": [
    {
     "name": "stderr",
     "output_type": "stream",
     "text": [
      "C:\\Users\\light\\AppData\\Local\\Temp\\ipykernel_17716\\1249502132.py:70: MatplotlibDeprecationWarning: Setting data with a non sequence type is deprecated since 3.7 and will be remove two minor releases later\n",
      "  ball_pt.set_data(b[\"x\"].values[0], b[\"y\"].values[0])\n",
      "C:\\Users\\light\\AppData\\Local\\Temp\\ipykernel_17716\\1249502132.py:70: MatplotlibDeprecationWarning: Setting data with a non sequence type is deprecated since 3.7 and will be remove two minor releases later\n",
      "  ball_pt.set_data(b[\"x\"].values[0], b[\"y\"].values[0])\n",
      "C:\\Users\\light\\AppData\\Local\\Temp\\ipykernel_17716\\1249502132.py:70: MatplotlibDeprecationWarning: Setting data with a non sequence type is deprecated since 3.7 and will be remove two minor releases later\n",
      "  ball_pt.set_data(b[\"x\"].values[0], b[\"y\"].values[0])\n"
     ]
    },
    {
     "name": "stdout",
     "output_type": "stream",
     "text": [
      "Writing frame 1/73...\n"
     ]
    },
    {
     "name": "stderr",
     "output_type": "stream",
     "text": [
      "C:\\Users\\light\\AppData\\Local\\Temp\\ipykernel_17716\\1249502132.py:70: MatplotlibDeprecationWarning: Setting data with a non sequence type is deprecated since 3.7 and will be remove two minor releases later\n",
      "  ball_pt.set_data(b[\"x\"].values[0], b[\"y\"].values[0])\n",
      "C:\\Users\\light\\AppData\\Local\\Temp\\ipykernel_17716\\1249502132.py:70: MatplotlibDeprecationWarning: Setting data with a non sequence type is deprecated since 3.7 and will be remove two minor releases later\n",
      "  ball_pt.set_data(b[\"x\"].values[0], b[\"y\"].values[0])\n",
      "C:\\Users\\light\\AppData\\Local\\Temp\\ipykernel_17716\\1249502132.py:70: MatplotlibDeprecationWarning: Setting data with a non sequence type is deprecated since 3.7 and will be remove two minor releases later\n",
      "  ball_pt.set_data(b[\"x\"].values[0], b[\"y\"].values[0])\n",
      "C:\\Users\\light\\AppData\\Local\\Temp\\ipykernel_17716\\1249502132.py:70: MatplotlibDeprecationWarning: Setting data with a non sequence type is deprecated since 3.7 and will be remove two minor releases later\n",
      "  ball_pt.set_data(b[\"x\"].values[0], b[\"y\"].values[0])\n",
      "C:\\Users\\light\\AppData\\Local\\Temp\\ipykernel_17716\\1249502132.py:70: MatplotlibDeprecationWarning: Setting data with a non sequence type is deprecated since 3.7 and will be remove two minor releases later\n",
      "  ball_pt.set_data(b[\"x\"].values[0], b[\"y\"].values[0])\n",
      "C:\\Users\\light\\AppData\\Local\\Temp\\ipykernel_17716\\1249502132.py:70: MatplotlibDeprecationWarning: Setting data with a non sequence type is deprecated since 3.7 and will be remove two minor releases later\n",
      "  ball_pt.set_data(b[\"x\"].values[0], b[\"y\"].values[0])\n",
      "C:\\Users\\light\\AppData\\Local\\Temp\\ipykernel_17716\\1249502132.py:70: MatplotlibDeprecationWarning: Setting data with a non sequence type is deprecated since 3.7 and will be remove two minor releases later\n",
      "  ball_pt.set_data(b[\"x\"].values[0], b[\"y\"].values[0])\n",
      "C:\\Users\\light\\AppData\\Local\\Temp\\ipykernel_17716\\1249502132.py:70: MatplotlibDeprecationWarning: Setting data with a non sequence type is deprecated since 3.7 and will be remove two minor releases later\n",
      "  ball_pt.set_data(b[\"x\"].values[0], b[\"y\"].values[0])\n",
      "C:\\Users\\light\\AppData\\Local\\Temp\\ipykernel_17716\\1249502132.py:70: MatplotlibDeprecationWarning: Setting data with a non sequence type is deprecated since 3.7 and will be remove two minor releases later\n",
      "  ball_pt.set_data(b[\"x\"].values[0], b[\"y\"].values[0])\n"
     ]
    },
    {
     "name": "stdout",
     "output_type": "stream",
     "text": [
      "Writing frame 10/73...\n"
     ]
    },
    {
     "name": "stderr",
     "output_type": "stream",
     "text": [
      "C:\\Users\\light\\AppData\\Local\\Temp\\ipykernel_17716\\1249502132.py:70: MatplotlibDeprecationWarning: Setting data with a non sequence type is deprecated since 3.7 and will be remove two minor releases later\n",
      "  ball_pt.set_data(b[\"x\"].values[0], b[\"y\"].values[0])\n",
      "C:\\Users\\light\\AppData\\Local\\Temp\\ipykernel_17716\\1249502132.py:70: MatplotlibDeprecationWarning: Setting data with a non sequence type is deprecated since 3.7 and will be remove two minor releases later\n",
      "  ball_pt.set_data(b[\"x\"].values[0], b[\"y\"].values[0])\n",
      "C:\\Users\\light\\AppData\\Local\\Temp\\ipykernel_17716\\1249502132.py:70: MatplotlibDeprecationWarning: Setting data with a non sequence type is deprecated since 3.7 and will be remove two minor releases later\n",
      "  ball_pt.set_data(b[\"x\"].values[0], b[\"y\"].values[0])\n",
      "C:\\Users\\light\\AppData\\Local\\Temp\\ipykernel_17716\\1249502132.py:70: MatplotlibDeprecationWarning: Setting data with a non sequence type is deprecated since 3.7 and will be remove two minor releases later\n",
      "  ball_pt.set_data(b[\"x\"].values[0], b[\"y\"].values[0])\n",
      "C:\\Users\\light\\AppData\\Local\\Temp\\ipykernel_17716\\1249502132.py:70: MatplotlibDeprecationWarning: Setting data with a non sequence type is deprecated since 3.7 and will be remove two minor releases later\n",
      "  ball_pt.set_data(b[\"x\"].values[0], b[\"y\"].values[0])\n",
      "C:\\Users\\light\\AppData\\Local\\Temp\\ipykernel_17716\\1249502132.py:70: MatplotlibDeprecationWarning: Setting data with a non sequence type is deprecated since 3.7 and will be remove two minor releases later\n",
      "  ball_pt.set_data(b[\"x\"].values[0], b[\"y\"].values[0])\n",
      "C:\\Users\\light\\AppData\\Local\\Temp\\ipykernel_17716\\1249502132.py:70: MatplotlibDeprecationWarning: Setting data with a non sequence type is deprecated since 3.7 and will be remove two minor releases later\n",
      "  ball_pt.set_data(b[\"x\"].values[0], b[\"y\"].values[0])\n",
      "C:\\Users\\light\\AppData\\Local\\Temp\\ipykernel_17716\\1249502132.py:70: MatplotlibDeprecationWarning: Setting data with a non sequence type is deprecated since 3.7 and will be remove two minor releases later\n",
      "  ball_pt.set_data(b[\"x\"].values[0], b[\"y\"].values[0])\n"
     ]
    },
    {
     "name": "stdout",
     "output_type": "stream",
     "text": [
      "Writing frame 20/73...\n"
     ]
    },
    {
     "name": "stderr",
     "output_type": "stream",
     "text": [
      "C:\\Users\\light\\AppData\\Local\\Temp\\ipykernel_17716\\1249502132.py:70: MatplotlibDeprecationWarning: Setting data with a non sequence type is deprecated since 3.7 and will be remove two minor releases later\n",
      "  ball_pt.set_data(b[\"x\"].values[0], b[\"y\"].values[0])\n",
      "C:\\Users\\light\\AppData\\Local\\Temp\\ipykernel_17716\\1249502132.py:70: MatplotlibDeprecationWarning: Setting data with a non sequence type is deprecated since 3.7 and will be remove two minor releases later\n",
      "  ball_pt.set_data(b[\"x\"].values[0], b[\"y\"].values[0])\n",
      "C:\\Users\\light\\AppData\\Local\\Temp\\ipykernel_17716\\1249502132.py:70: MatplotlibDeprecationWarning: Setting data with a non sequence type is deprecated since 3.7 and will be remove two minor releases later\n",
      "  ball_pt.set_data(b[\"x\"].values[0], b[\"y\"].values[0])\n",
      "C:\\Users\\light\\AppData\\Local\\Temp\\ipykernel_17716\\1249502132.py:70: MatplotlibDeprecationWarning: Setting data with a non sequence type is deprecated since 3.7 and will be remove two minor releases later\n",
      "  ball_pt.set_data(b[\"x\"].values[0], b[\"y\"].values[0])\n",
      "C:\\Users\\light\\AppData\\Local\\Temp\\ipykernel_17716\\1249502132.py:70: MatplotlibDeprecationWarning: Setting data with a non sequence type is deprecated since 3.7 and will be remove two minor releases later\n",
      "  ball_pt.set_data(b[\"x\"].values[0], b[\"y\"].values[0])\n",
      "C:\\Users\\light\\AppData\\Local\\Temp\\ipykernel_17716\\1249502132.py:70: MatplotlibDeprecationWarning: Setting data with a non sequence type is deprecated since 3.7 and will be remove two minor releases later\n",
      "  ball_pt.set_data(b[\"x\"].values[0], b[\"y\"].values[0])\n",
      "C:\\Users\\light\\AppData\\Local\\Temp\\ipykernel_17716\\1249502132.py:70: MatplotlibDeprecationWarning: Setting data with a non sequence type is deprecated since 3.7 and will be remove two minor releases later\n",
      "  ball_pt.set_data(b[\"x\"].values[0], b[\"y\"].values[0])\n",
      "C:\\Users\\light\\AppData\\Local\\Temp\\ipykernel_17716\\1249502132.py:70: MatplotlibDeprecationWarning: Setting data with a non sequence type is deprecated since 3.7 and will be remove two minor releases later\n",
      "  ball_pt.set_data(b[\"x\"].values[0], b[\"y\"].values[0])\n",
      "C:\\Users\\light\\AppData\\Local\\Temp\\ipykernel_17716\\1249502132.py:70: MatplotlibDeprecationWarning: Setting data with a non sequence type is deprecated since 3.7 and will be remove two minor releases later\n",
      "  ball_pt.set_data(b[\"x\"].values[0], b[\"y\"].values[0])\n",
      "C:\\Users\\light\\AppData\\Local\\Temp\\ipykernel_17716\\1249502132.py:70: MatplotlibDeprecationWarning: Setting data with a non sequence type is deprecated since 3.7 and will be remove two minor releases later\n",
      "  ball_pt.set_data(b[\"x\"].values[0], b[\"y\"].values[0])\n",
      "C:\\Users\\light\\AppData\\Local\\Temp\\ipykernel_17716\\1249502132.py:70: MatplotlibDeprecationWarning: Setting data with a non sequence type is deprecated since 3.7 and will be remove two minor releases later\n",
      "  ball_pt.set_data(b[\"x\"].values[0], b[\"y\"].values[0])\n",
      "C:\\Users\\light\\AppData\\Local\\Temp\\ipykernel_17716\\1249502132.py:70: MatplotlibDeprecationWarning: Setting data with a non sequence type is deprecated since 3.7 and will be remove two minor releases later\n",
      "  ball_pt.set_data(b[\"x\"].values[0], b[\"y\"].values[0])\n"
     ]
    },
    {
     "name": "stdout",
     "output_type": "stream",
     "text": [
      "Writing frame 30/73...\n"
     ]
    },
    {
     "name": "stderr",
     "output_type": "stream",
     "text": [
      "C:\\Users\\light\\AppData\\Local\\Temp\\ipykernel_17716\\1249502132.py:70: MatplotlibDeprecationWarning: Setting data with a non sequence type is deprecated since 3.7 and will be remove two minor releases later\n",
      "  ball_pt.set_data(b[\"x\"].values[0], b[\"y\"].values[0])\n",
      "C:\\Users\\light\\AppData\\Local\\Temp\\ipykernel_17716\\1249502132.py:70: MatplotlibDeprecationWarning: Setting data with a non sequence type is deprecated since 3.7 and will be remove two minor releases later\n",
      "  ball_pt.set_data(b[\"x\"].values[0], b[\"y\"].values[0])\n",
      "C:\\Users\\light\\AppData\\Local\\Temp\\ipykernel_17716\\1249502132.py:70: MatplotlibDeprecationWarning: Setting data with a non sequence type is deprecated since 3.7 and will be remove two minor releases later\n",
      "  ball_pt.set_data(b[\"x\"].values[0], b[\"y\"].values[0])\n",
      "C:\\Users\\light\\AppData\\Local\\Temp\\ipykernel_17716\\1249502132.py:70: MatplotlibDeprecationWarning: Setting data with a non sequence type is deprecated since 3.7 and will be remove two minor releases later\n",
      "  ball_pt.set_data(b[\"x\"].values[0], b[\"y\"].values[0])\n",
      "C:\\Users\\light\\AppData\\Local\\Temp\\ipykernel_17716\\1249502132.py:70: MatplotlibDeprecationWarning: Setting data with a non sequence type is deprecated since 3.7 and will be remove two minor releases later\n",
      "  ball_pt.set_data(b[\"x\"].values[0], b[\"y\"].values[0])\n",
      "C:\\Users\\light\\AppData\\Local\\Temp\\ipykernel_17716\\1249502132.py:70: MatplotlibDeprecationWarning: Setting data with a non sequence type is deprecated since 3.7 and will be remove two minor releases later\n",
      "  ball_pt.set_data(b[\"x\"].values[0], b[\"y\"].values[0])\n",
      "C:\\Users\\light\\AppData\\Local\\Temp\\ipykernel_17716\\1249502132.py:70: MatplotlibDeprecationWarning: Setting data with a non sequence type is deprecated since 3.7 and will be remove two minor releases later\n",
      "  ball_pt.set_data(b[\"x\"].values[0], b[\"y\"].values[0])\n",
      "C:\\Users\\light\\AppData\\Local\\Temp\\ipykernel_17716\\1249502132.py:70: MatplotlibDeprecationWarning: Setting data with a non sequence type is deprecated since 3.7 and will be remove two minor releases later\n",
      "  ball_pt.set_data(b[\"x\"].values[0], b[\"y\"].values[0])\n"
     ]
    },
    {
     "name": "stdout",
     "output_type": "stream",
     "text": [
      "Writing frame 40/73...\n"
     ]
    },
    {
     "name": "stderr",
     "output_type": "stream",
     "text": [
      "C:\\Users\\light\\AppData\\Local\\Temp\\ipykernel_17716\\1249502132.py:70: MatplotlibDeprecationWarning: Setting data with a non sequence type is deprecated since 3.7 and will be remove two minor releases later\n",
      "  ball_pt.set_data(b[\"x\"].values[0], b[\"y\"].values[0])\n",
      "C:\\Users\\light\\AppData\\Local\\Temp\\ipykernel_17716\\1249502132.py:70: MatplotlibDeprecationWarning: Setting data with a non sequence type is deprecated since 3.7 and will be remove two minor releases later\n",
      "  ball_pt.set_data(b[\"x\"].values[0], b[\"y\"].values[0])\n",
      "C:\\Users\\light\\AppData\\Local\\Temp\\ipykernel_17716\\1249502132.py:70: MatplotlibDeprecationWarning: Setting data with a non sequence type is deprecated since 3.7 and will be remove two minor releases later\n",
      "  ball_pt.set_data(b[\"x\"].values[0], b[\"y\"].values[0])\n",
      "C:\\Users\\light\\AppData\\Local\\Temp\\ipykernel_17716\\1249502132.py:70: MatplotlibDeprecationWarning: Setting data with a non sequence type is deprecated since 3.7 and will be remove two minor releases later\n",
      "  ball_pt.set_data(b[\"x\"].values[0], b[\"y\"].values[0])\n",
      "C:\\Users\\light\\AppData\\Local\\Temp\\ipykernel_17716\\1249502132.py:70: MatplotlibDeprecationWarning: Setting data with a non sequence type is deprecated since 3.7 and will be remove two minor releases later\n",
      "  ball_pt.set_data(b[\"x\"].values[0], b[\"y\"].values[0])\n",
      "C:\\Users\\light\\AppData\\Local\\Temp\\ipykernel_17716\\1249502132.py:70: MatplotlibDeprecationWarning: Setting data with a non sequence type is deprecated since 3.7 and will be remove two minor releases later\n",
      "  ball_pt.set_data(b[\"x\"].values[0], b[\"y\"].values[0])\n",
      "C:\\Users\\light\\AppData\\Local\\Temp\\ipykernel_17716\\1249502132.py:70: MatplotlibDeprecationWarning: Setting data with a non sequence type is deprecated since 3.7 and will be remove two minor releases later\n",
      "  ball_pt.set_data(b[\"x\"].values[0], b[\"y\"].values[0])\n",
      "C:\\Users\\light\\AppData\\Local\\Temp\\ipykernel_17716\\1249502132.py:70: MatplotlibDeprecationWarning: Setting data with a non sequence type is deprecated since 3.7 and will be remove two minor releases later\n",
      "  ball_pt.set_data(b[\"x\"].values[0], b[\"y\"].values[0])\n",
      "C:\\Users\\light\\AppData\\Local\\Temp\\ipykernel_17716\\1249502132.py:70: MatplotlibDeprecationWarning: Setting data with a non sequence type is deprecated since 3.7 and will be remove two minor releases later\n",
      "  ball_pt.set_data(b[\"x\"].values[0], b[\"y\"].values[0])\n",
      "C:\\Users\\light\\AppData\\Local\\Temp\\ipykernel_17716\\1249502132.py:70: MatplotlibDeprecationWarning: Setting data with a non sequence type is deprecated since 3.7 and will be remove two minor releases later\n",
      "  ball_pt.set_data(b[\"x\"].values[0], b[\"y\"].values[0])\n"
     ]
    },
    {
     "name": "stdout",
     "output_type": "stream",
     "text": [
      "Writing frame 50/73...\n"
     ]
    },
    {
     "name": "stderr",
     "output_type": "stream",
     "text": [
      "C:\\Users\\light\\AppData\\Local\\Temp\\ipykernel_17716\\1249502132.py:70: MatplotlibDeprecationWarning: Setting data with a non sequence type is deprecated since 3.7 and will be remove two minor releases later\n",
      "  ball_pt.set_data(b[\"x\"].values[0], b[\"y\"].values[0])\n",
      "C:\\Users\\light\\AppData\\Local\\Temp\\ipykernel_17716\\1249502132.py:70: MatplotlibDeprecationWarning: Setting data with a non sequence type is deprecated since 3.7 and will be remove two minor releases later\n",
      "  ball_pt.set_data(b[\"x\"].values[0], b[\"y\"].values[0])\n",
      "C:\\Users\\light\\AppData\\Local\\Temp\\ipykernel_17716\\1249502132.py:70: MatplotlibDeprecationWarning: Setting data with a non sequence type is deprecated since 3.7 and will be remove two minor releases later\n",
      "  ball_pt.set_data(b[\"x\"].values[0], b[\"y\"].values[0])\n",
      "C:\\Users\\light\\AppData\\Local\\Temp\\ipykernel_17716\\1249502132.py:70: MatplotlibDeprecationWarning: Setting data with a non sequence type is deprecated since 3.7 and will be remove two minor releases later\n",
      "  ball_pt.set_data(b[\"x\"].values[0], b[\"y\"].values[0])\n",
      "C:\\Users\\light\\AppData\\Local\\Temp\\ipykernel_17716\\1249502132.py:70: MatplotlibDeprecationWarning: Setting data with a non sequence type is deprecated since 3.7 and will be remove two minor releases later\n",
      "  ball_pt.set_data(b[\"x\"].values[0], b[\"y\"].values[0])\n",
      "C:\\Users\\light\\AppData\\Local\\Temp\\ipykernel_17716\\1249502132.py:70: MatplotlibDeprecationWarning: Setting data with a non sequence type is deprecated since 3.7 and will be remove two minor releases later\n",
      "  ball_pt.set_data(b[\"x\"].values[0], b[\"y\"].values[0])\n",
      "C:\\Users\\light\\AppData\\Local\\Temp\\ipykernel_17716\\1249502132.py:70: MatplotlibDeprecationWarning: Setting data with a non sequence type is deprecated since 3.7 and will be remove two minor releases later\n",
      "  ball_pt.set_data(b[\"x\"].values[0], b[\"y\"].values[0])\n",
      "C:\\Users\\light\\AppData\\Local\\Temp\\ipykernel_17716\\1249502132.py:70: MatplotlibDeprecationWarning: Setting data with a non sequence type is deprecated since 3.7 and will be remove two minor releases later\n",
      "  ball_pt.set_data(b[\"x\"].values[0], b[\"y\"].values[0])\n",
      "C:\\Users\\light\\AppData\\Local\\Temp\\ipykernel_17716\\1249502132.py:70: MatplotlibDeprecationWarning: Setting data with a non sequence type is deprecated since 3.7 and will be remove two minor releases later\n",
      "  ball_pt.set_data(b[\"x\"].values[0], b[\"y\"].values[0])\n",
      "C:\\Users\\light\\AppData\\Local\\Temp\\ipykernel_17716\\1249502132.py:70: MatplotlibDeprecationWarning: Setting data with a non sequence type is deprecated since 3.7 and will be remove two minor releases later\n",
      "  ball_pt.set_data(b[\"x\"].values[0], b[\"y\"].values[0])\n"
     ]
    },
    {
     "name": "stdout",
     "output_type": "stream",
     "text": [
      "Writing frame 60/73...\n"
     ]
    },
    {
     "name": "stderr",
     "output_type": "stream",
     "text": [
      "C:\\Users\\light\\AppData\\Local\\Temp\\ipykernel_17716\\1249502132.py:70: MatplotlibDeprecationWarning: Setting data with a non sequence type is deprecated since 3.7 and will be remove two minor releases later\n",
      "  ball_pt.set_data(b[\"x\"].values[0], b[\"y\"].values[0])\n",
      "C:\\Users\\light\\AppData\\Local\\Temp\\ipykernel_17716\\1249502132.py:70: MatplotlibDeprecationWarning: Setting data with a non sequence type is deprecated since 3.7 and will be remove two minor releases later\n",
      "  ball_pt.set_data(b[\"x\"].values[0], b[\"y\"].values[0])\n",
      "C:\\Users\\light\\AppData\\Local\\Temp\\ipykernel_17716\\1249502132.py:70: MatplotlibDeprecationWarning: Setting data with a non sequence type is deprecated since 3.7 and will be remove two minor releases later\n",
      "  ball_pt.set_data(b[\"x\"].values[0], b[\"y\"].values[0])\n",
      "C:\\Users\\light\\AppData\\Local\\Temp\\ipykernel_17716\\1249502132.py:70: MatplotlibDeprecationWarning: Setting data with a non sequence type is deprecated since 3.7 and will be remove two minor releases later\n",
      "  ball_pt.set_data(b[\"x\"].values[0], b[\"y\"].values[0])\n",
      "C:\\Users\\light\\AppData\\Local\\Temp\\ipykernel_17716\\1249502132.py:70: MatplotlibDeprecationWarning: Setting data with a non sequence type is deprecated since 3.7 and will be remove two minor releases later\n",
      "  ball_pt.set_data(b[\"x\"].values[0], b[\"y\"].values[0])\n",
      "C:\\Users\\light\\AppData\\Local\\Temp\\ipykernel_17716\\1249502132.py:70: MatplotlibDeprecationWarning: Setting data with a non sequence type is deprecated since 3.7 and will be remove two minor releases later\n",
      "  ball_pt.set_data(b[\"x\"].values[0], b[\"y\"].values[0])\n",
      "C:\\Users\\light\\AppData\\Local\\Temp\\ipykernel_17716\\1249502132.py:70: MatplotlibDeprecationWarning: Setting data with a non sequence type is deprecated since 3.7 and will be remove two minor releases later\n",
      "  ball_pt.set_data(b[\"x\"].values[0], b[\"y\"].values[0])\n",
      "C:\\Users\\light\\AppData\\Local\\Temp\\ipykernel_17716\\1249502132.py:70: MatplotlibDeprecationWarning: Setting data with a non sequence type is deprecated since 3.7 and will be remove two minor releases later\n",
      "  ball_pt.set_data(b[\"x\"].values[0], b[\"y\"].values[0])\n",
      "C:\\Users\\light\\AppData\\Local\\Temp\\ipykernel_17716\\1249502132.py:70: MatplotlibDeprecationWarning: Setting data with a non sequence type is deprecated since 3.7 and will be remove two minor releases later\n",
      "  ball_pt.set_data(b[\"x\"].values[0], b[\"y\"].values[0])\n",
      "C:\\Users\\light\\AppData\\Local\\Temp\\ipykernel_17716\\1249502132.py:70: MatplotlibDeprecationWarning: Setting data with a non sequence type is deprecated since 3.7 and will be remove two minor releases later\n",
      "  ball_pt.set_data(b[\"x\"].values[0], b[\"y\"].values[0])\n",
      "C:\\Users\\light\\AppData\\Local\\Temp\\ipykernel_17716\\1249502132.py:70: MatplotlibDeprecationWarning: Setting data with a non sequence type is deprecated since 3.7 and will be remove two minor releases later\n",
      "  ball_pt.set_data(b[\"x\"].values[0], b[\"y\"].values[0])\n"
     ]
    },
    {
     "name": "stdout",
     "output_type": "stream",
     "text": [
      "Writing frame 70/73...\n"
     ]
    },
    {
     "name": "stderr",
     "output_type": "stream",
     "text": [
      "C:\\Users\\light\\AppData\\Local\\Temp\\ipykernel_17716\\1249502132.py:70: MatplotlibDeprecationWarning: Setting data with a non sequence type is deprecated since 3.7 and will be remove two minor releases later\n",
      "  ball_pt.set_data(b[\"x\"].values[0], b[\"y\"].values[0])\n",
      "C:\\Users\\light\\AppData\\Local\\Temp\\ipykernel_17716\\1249502132.py:70: MatplotlibDeprecationWarning: Setting data with a non sequence type is deprecated since 3.7 and will be remove two minor releases later\n",
      "  ball_pt.set_data(b[\"x\"].values[0], b[\"y\"].values[0])\n"
     ]
    },
    {
     "name": "stdout",
     "output_type": "stream",
     "text": [
      "Writing frame 73/73...\n"
     ]
    },
    {
     "data": {
      "image/png": "[encoded data removed]",
      "text/plain": [
       "<Figure size 1200x600 with 1 Axes>"
      ]
     },
     "metadata": {},
     "output_type": "display_data"
    }
   ],
   "source": [
    "fig, ax = plt.subplots(figsize=(12, 6))\n",
    "draw_field(ax)\n",
    "ax.plot([line_of_scrimmage, line_of_scrimmage], [0, FIELD_H], color=\"#0d41e1\", lw=2)\n",
    "ax.plot([to_go_line, to_go_line], [0, FIELD_H], color=\"#f9c80e\", lw=2)\n",
    "\n",
    "# Persistent artists\n",
    "away_pts = ax.scatter([], [], s=250, facecolors=\"#f8f9fa\", edgecolors=away_2, linewidths=2, zorder=3)\n",
    "home_pts = ax.scatter([], [], s=250, facecolors=home_1, edgecolors=home_2, linewidths=2, zorder=3)\n",
    "(ball_pt,) = ax.plot([], [], \"o\", ms=8, mfc=\"#935e38\", mec=\"#d9d9d9\", mew=1.5, zorder=4)\n",
    "title = ax.set_title(title_txt, fontsize=12, weight=\"bold\")\n",
    "\n",
    "# Dynamic artists tracked so we can safely remove them between frames\n",
    "jersey_texts = []\n",
    "arrow_artists = []\n",
    "\n",
    "def init():\n",
    "    away_pts.set_offsets(np.empty((0, 2)))\n",
    "    home_pts.set_offsets(np.empty((0, 2)))\n",
    "    ball_pt.set_data([], [])\n",
    "    return [away_pts, home_pts, ball_pt, title]\n",
    "\n",
    "def clear_dynamic():\n",
    "    global arrow_artists, jersey_texts\n",
    "    for a in arrow_artists:\n",
    "        a.remove()\n",
    "    arrow_artists = []\n",
    "    for t in jersey_texts:\n",
    "        t.remove()\n",
    "    jersey_texts = []\n",
    "\n",
    "def draw_team(frame_id, team_df, arrow_color, num_color):\n",
    "    sub = team_df[team_df[\"frameId\"] == frame_id]\n",
    "    if sub.empty:\n",
    "        return None, [], []\n",
    "    pts = sub[[\"x\",\"y\"]].values\n",
    "    arrows, texts = [], []\n",
    "    for _, r in sub.iterrows():\n",
    "        arr = ax.arrow(r[\"x\"], r[\"y\"], ARROW_SCALE*r[\"v_x\"], ARROW_SCALE*r[\"v_y\"],\n",
    "                       head_width=0.8, head_length=0.8, length_includes_head=True,\n",
    "                       fc=arrow_color, ec=arrow_color, alpha=0.9, lw=1.0, zorder=2)\n",
    "        arrows.append(arr)\n",
    "        num = \"\" if pd.isna(r.get(\"jerseyNumber\")) else str(int(r[\"jerseyNumber\"]))\n",
    "        txt = ax.text(r[\"x\"], r[\"y\"], num, color=num_color, fontsize=9,\n",
    "                      ha=\"center\", va=\"center\", zorder=5)\n",
    "        texts.append(txt)\n",
    "    return pts, texts, arrows\n",
    "\n",
    "def animate(frame_id):\n",
    "    clear_dynamic()\n",
    "\n",
    "    # Away\n",
    "    pts_away, txt_away, arr_away = draw_team(frame_id, away_df, away_1, away_2)\n",
    "    if pts_away is not None:\n",
    "        away_pts.set_offsets(pts_away)\n",
    "        away_pts.set_edgecolors(away_2)\n",
    "\n",
    "    # Home\n",
    "    pts_home, txt_home, arr_home = draw_team(frame_id, home_df, home_2, home_2)\n",
    "    if pts_home is not None:\n",
    "        home_pts.set_offsets(pts_home)\n",
    "        home_pts.set_edgecolors(home_2)\n",
    "\n",
    "    # Track/removal for next frame\n",
    "    arrow_artists.extend(arr_away + arr_home)\n",
    "    jersey_texts.extend(txt_away + txt_home)\n",
    "\n",
    "    # Ball\n",
    "    b = ball_df[ball_df[\"frameId\"] == frame_id]\n",
    "    if not b.empty:\n",
    "        ball_pt.set_data(b[\"x\"].values[0], b[\"y\"].values[0])\n",
    "    else:\n",
    "        ball_pt.set_data([], [])\n",
    "\n",
    "    title.set_text(f\"{title_txt}\\nFrame: {frame_id}\")\n",
    "    return [away_pts, home_pts, ball_pt, title, *arrow_artists, *jersey_texts]\n",
    "\n",
    "# Use actual frame IDs\n",
    "assert len(frame_ids) > 0, \"frame_ids is empty\"\n",
    "anim = animation.FuncAnimation(\n",
    "    fig, animate, init_func=init,\n",
    "    frames=frame_ids, interval=100, blit=False, cache_frame_data=False\n",
    ")\n",
    "\n",
    "# Show inline if Jupyter, else save GIF with progress\n",
    "def _in_notebook():\n",
    "    try:\n",
    "        from IPython import get_ipython\n",
    "        return \"IPython\" in globals() and get_ipython() is not None\n",
    "    except Exception:\n",
    "        return False\n",
    "\n",
    "if _in_notebook():\n",
    "    from IPython.display import HTML, display\n",
    "    display(HTML(anim.to_jshtml()))\n",
    "else:\n",
    "    writer = animation.PillowWriter(fps=10, metadata=dict(artist=\"you\"))\n",
    "    def _progress(i, n):\n",
    "        if i == 0 or (i+1) == n or (i+1) % 10 == 0:\n",
    "            print(f\"Writing frame {i+1}/{n}...\")\n",
    "    anim.save(OUT_GIF, writer=writer, dpi=100, progress_callback=_progress)"
   ]
  }
 ],
 "metadata": {
  "kernelspec": {
   "display_name": "Python 3",
   "language": "python",
   "name": "python3"
  },
  "language_info": {
   "codemirror_mode": {
    "name": "ipython",
    "version": 3
   },
   "file_extension": ".py",
   "mimetype": "text/x-python",
   "name": "python",
   "nbconvert_exporter": "python",
   "pygments_lexer": "ipython3",
   "version": "3.11.5"
  }
 },
 "nbformat": 4,
 "nbformat_minor": 5
}
